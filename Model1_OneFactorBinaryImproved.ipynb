{
 "cells": [
  {
   "cell_type": "code",
   "execution_count": null,
   "id": "77643d25",
   "metadata": {},
   "outputs": [],
   "source": [
    "import gurobipy as gp\n",
    "import math\n",
    "import pandas as pd"
   ]
  },
  {
   "cell_type": "code",
   "execution_count": null,
   "id": "f41e00e1",
   "metadata": {},
   "outputs": [],
   "source": [
    "IP = 0\n",
    "MIP = 1\n",
    "LP = 2\n",
    "\n",
    "\n",
    "# model improved version of the \"Binary Representation of One Factor\" method\n",
    "def model_one_factor_binary(N, model_type, m):\n",
    "    # find smallest integer k such that N <= 2^k\n",
    "    k = 0\n",
    "    coeff = 1\n",
    "    coeffs = []\n",
    "    while coeff < N:\n",
    "        coeffs.append(coeff)\n",
    "        coeff *= 2\n",
    "        k += 1\n",
    "    \n",
    "    improved_bound = math.ceil(k/2) + 1\n",
    "    coeffs = coeffs[0:improved_bound]\n",
    "        \n",
    "        \n",
    "    # Add variables\n",
    "    if model_type == IP:\n",
    "        X = m.addVar(vtype=gp.GRB.INTEGER, name=\"X\")\n",
    "        Y = m.addVars(1, improved_bound, vtype=gp.GRB.BINARY, name=\"Y\")\n",
    "        Z = m.addVars(1, improved_bound, vtype=gp.GRB.INTEGER, name=\"Z\")\n",
    "    elif model_type == MIP:\n",
    "        X = m.addVar(vtype=gp.GRB.INTEGER, name=\"X\")\n",
    "        Y = m.addVars(1, improved_bound, vtype=gp.GRB.BINARY, name=\"Y\")\n",
    "        Z = m.addVars(1, improved_bound, vtype=gp.GRB.CONTINUOUS, name=\"Z\")\n",
    "    elif model_type == LP:\n",
    "        X = m.addVar(vtype=gp.GRB.CONTINUOUS, name=\"X\")\n",
    "        Y = m.addVars(1, improved_bound, vtype=gp.GRB.CONTINUOUS, name=\"Y\")\n",
    "        Z = m.addVars(1, improved_bound, vtype=gp.GRB.CONTINUOUS, name=\"Z\")\n",
    "\n",
    "        \n",
    "    # Set objective\n",
    "    m.setObjective(0, gp.GRB.MAXIMIZE)\n",
    "\n",
    "    \n",
    "    # Add constraints\n",
    "    Z_list = []\n",
    "    for i in range(improved_bound):\n",
    "        Z_list.append(Z[0,i])\n",
    "\n",
    "    m.addConstr(N == gp.LinExpr(coeffs, Z_list))\n",
    "\n",
    "    m.addConstr(2 <= X)\n",
    "    m.addConstr(X <= math.floor(N/2))\n",
    "\n",
    "    for i in range(improved_bound):\n",
    "        m.addConstr(Z[0,i] <= N*Y[0,i])\n",
    "        m.addConstr(Z[0,i] <= X)\n",
    "        m.addConstr(X - N*(1-Y[0,i]) <= Z[0,i])\n",
    "        m.addConstr(0 <= Z[0,i])\n",
    "    \n",
    "    if model_type == LP:\n",
    "        for i in range(improved_bound):\n",
    "            m.addConstr(0 <= Y[0,i])\n",
    "            m.addConstr(Y[0,i] <= 1)\n",
    "    "
   ]
  },
  {
   "cell_type": "code",
   "execution_count": null,
   "id": "2c306020",
   "metadata": {},
   "outputs": [],
   "source": [
    "current_type = IP\n",
    "start = 1000000\n",
    "end = start + 300\n",
    "data = []\n",
    "\n",
    "for i in range(start, end+1):\n",
    "    m = gp.Model()\n",
    "    m.Params.LogToConsole = 0\n",
    "    m.Params.Threads = 2\n",
    "    \n",
    "    model_one_factor_binary(i, current_type, m)\n",
    "    \n",
    "    for j in range(10):\n",
    "        m.reset(1)\n",
    "        m.optimize()\n",
    "\n",
    "        if m.status == gp.GRB.OPTIMAL:\n",
    "            factor = m.getVarByName(\"X\").x\n",
    "            correct = 0\n",
    "            larger = 0\n",
    "            if i % factor == 0:\n",
    "                correct = 1\n",
    "                if factor >= factor / i:\n",
    "                    larger = 1\n",
    "\n",
    "\n",
    "            data.append([i, factor, correct, larger, m.NumVars, m.NumIntVars, m.NumBinVars, m.NumConstrs, \\\n",
    "                         m.NodeCount, m.IterCount, m.runtime, m.IsMIP])\n",
    "        elif m.status == gp.GRB.INFEASIBLE:\n",
    "            data.append([i, \"INFEASIBLE\", \"N/A\", \"N/A\", m.NumVars, m.NumIntVars, m.NumBinVars, m.NumConstrs, \\\n",
    "                         m.NodeCount, m.IterCount, m.runtime, m.IsMIP])"
   ]
  },
  {
   "cell_type": "code",
   "execution_count": null,
   "id": "3bbc3a15",
   "metadata": {},
   "outputs": [],
   "source": [
    "df = pd.DataFrame(data, columns=[\"N\", \"Factor\", \"Is Correct\", \"Is Larger Factor\", \\\n",
    "                                 \"Num Vars\", \"Num Integer Vars\", \"Num Binary Vars\", \"Num Constraints\", \\\n",
    "                                 \"Node Count\", \"Simplex Iterations Count\", \"Runtime\", \"Is MIP\"])"
   ]
  },
  {
   "cell_type": "code",
   "execution_count": null,
   "id": "7847418c",
   "metadata": {},
   "outputs": [],
   "source": [
    "print(df)"
   ]
  },
  {
   "cell_type": "code",
   "execution_count": null,
   "id": "d7ba56f7",
   "metadata": {},
   "outputs": [],
   "source": []
  },
  {
   "cell_type": "code",
   "execution_count": null,
   "id": "b9f74e0c",
   "metadata": {},
   "outputs": [],
   "source": []
  }
 ],
 "metadata": {
  "kernelspec": {
   "display_name": "Python 3",
   "language": "python",
   "name": "python3"
  },
  "language_info": {
   "codemirror_mode": {
    "name": "ipython",
    "version": 3
   },
   "file_extension": ".py",
   "mimetype": "text/x-python",
   "name": "python",
   "nbconvert_exporter": "python",
   "pygments_lexer": "ipython3",
   "version": "3.9.4"
  }
 },
 "nbformat": 4,
 "nbformat_minor": 5
}
